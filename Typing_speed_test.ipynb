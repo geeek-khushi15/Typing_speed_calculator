{
  "nbformat": 4,
  "nbformat_minor": 0,
  "metadata": {
    "colab": {
      "provenance": []
    },
    "kernelspec": {
      "name": "python3",
      "display_name": "Python 3"
    },
    "language_info": {
      "name": "python"
    }
  },
  "cells": [
    {
      "cell_type": "code",
      "execution_count": 11,
      "metadata": {
        "colab": {
          "base_uri": "https://localhost:8080/"
        },
        "id": "lHzYrarJhv8g",
        "outputId": "4ddfa49e-9030-4ee5-c397-ba9266f80eb9"
      },
      "outputs": [
        {
          "output_type": "stream",
          "name": "stdout",
          "text": [
            "###### TYPING SPEED CALCULATOR ######\n",
            "My name is Khushi and I am a software developer\n",
            "\n",
            "\n",
            "  START TYPING The ABOVE String My name is KHushi and I am a spftware developer\n",
            "\n",
            "speed :  1 WPS\n",
            "mistakes :  2 Mistakes\n"
          ]
        }
      ],
      "source": [
        "import time\n",
        "from time import *\n",
        "import random as rn\n",
        "\n",
        "def mistake(partest,usertest):\n",
        "  error=0\n",
        "  for i in range(len(partest)):\n",
        "    try:\n",
        "       if partest[i]!=usertest[i]:\n",
        "           error = error +1\n",
        "    except:\n",
        "          error = error +1\n",
        "  return error\n",
        "\n",
        "def speed_time( time_s,time_e,userinput):\n",
        "  time_delay = time_e - time_s\n",
        "  time_r = round(time_delay,2)\n",
        "  wpm = len(userinput)/ time_r\n",
        "  return round(wpm)\n",
        "\n",
        "test = [\"A good typing speed in the workplace is around 40 to 60 WPM.\",\"My name is Khushi and I am a software developer\",\"I am persuing My BTech Degeree in Computer Science and Engineering\"]\n",
        "test1= rn.choice(test)\n",
        "print(\"###### TYPING SPEED CALCULATOR ######\")\n",
        "print(test1)\n",
        "print()\n",
        "print()\n",
        "time1 = time()\n",
        "testinput = input(\"  START TYPING The ABOVE String \")\n",
        "time2 = time()\n",
        "print()\n",
        "\n",
        "print(\"speed : \",speed_time(time1,time2,testinput),\"WPS\")\n",
        "print(\"mistakes : \",mistake(test1,testinput),\"Mistakes\")\n",
        "\n"
      ]
    }
  ]
}